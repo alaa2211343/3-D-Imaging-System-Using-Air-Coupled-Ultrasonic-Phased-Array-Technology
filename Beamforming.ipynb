{
  "nbformat": 4,
  "nbformat_minor": 0,
  "metadata": {
    "colab": {
      "provenance": [],
      "authorship_tag": "ABX9TyNBY5YFfpOhVShCogfBVBOf",
      "include_colab_link": true
    },
    "kernelspec": {
      "name": "python3",
      "display_name": "Python 3"
    },
    "language_info": {
      "name": "python"
    }
  },
  "cells": [
    {
      "cell_type": "markdown",
      "metadata": {
        "id": "view-in-github",
        "colab_type": "text"
      },
      "source": [
        "<a href=\"https://colab.research.google.com/github/alaa2211343/3-D-Imaging-System-Using-Air-Coupled-Ultrasonic-Phased-Array-Technology/blob/main/Beamforming.ipynb\" target=\"_parent\"><img src=\"https://colab.research.google.com/assets/colab-badge.svg\" alt=\"Open In Colab\"/></a>"
      ]
    },
    {
      "cell_type": "code",
      "execution_count": null,
      "metadata": {
        "id": "Zg4S_PnnLpx_",
        "outputId": "374430b2-0419-4853-f40f-a467a39095f9",
        "colab": {
          "base_uri": "https://localhost:8080/"
        }
      },
      "outputs": [
        {
          "output_type": "stream",
          "name": "stdout",
          "text": [
            "Generated FPGA dataset files:\n",
            "beamformed_data_-30.csv\n",
            "beamformed_data_-30.hex\n",
            "beamformed_data_-30.bin\n",
            "beamformed_data_0.csv\n",
            "beamformed_data_0.hex\n",
            "beamformed_data_0.bin\n",
            "beamformed_data_30.csv\n",
            "beamformed_data_30.hex\n",
            "beamformed_data_30.bin\n",
            "beamformed_data_45.csv\n",
            "beamformed_data_45.hex\n",
            "beamformed_data_45.bin\n",
            "beamformed_data_-45.csv\n",
            "beamformed_data_-45.hex\n",
            "beamformed_data_-45.bin\n"
          ]
        }
      ],
      "source": [
        "import numpy as np\n",
        "import pandas as pd\n",
        "\n",
        "# Fixed-Point Scaling Factor\n",
        "FIXED_POINT_SCALE = 2**15\n",
        "\n",
        "# Define Beamforming Parameters\n",
        "angles = [-30, 0, 30, 45, -45]  # Beamforming angles\n",
        "sampling_rate = 4.8e6  # 4.8 MHz\n",
        "time_duration = 1e-4\n",
        "time = np.arange(0, time_duration, 1 / sampling_rate)\n",
        "\n",
        "# Simulated Beamformed Data (Using Sine Waves for Representation)\n",
        "beamformed_data_fixed = {\n",
        "    angle: (np.sin(2 * np.pi * 100e3 * time) * FIXED_POINT_SCALE).astype(int)\n",
        "    for angle in angles\n",
        "}\n",
        "\n",
        "# Define output file formats (CSV, HEX, Binary)\n",
        "output_files = []\n",
        "\n",
        "for angle, data in beamformed_data_fixed.items():\n",
        "    # CSV Format\n",
        "    csv_filename = f\"beamformed_data_{angle}.csv\"\n",
        "    pd.DataFrame(data).to_csv(csv_filename, index=False, header=False)\n",
        "    output_files.append(csv_filename)\n",
        "\n",
        "    # HEX Format (corrected for signed 16-bit output)\n",
        "    hex_filename = f\"beamformed_data_{angle}.hex\"\n",
        "    with open(hex_filename, \"w\") as f:\n",
        "        for value in data:\n",
        "            f.write(f\"{value & 0xFFFF:04X}\\n\")  # Mask for signed HEX output\n",
        "    output_files.append(hex_filename)\n",
        "\n",
        "    # Binary Format\n",
        "    bin_filename = f\"beamformed_data_{angle}.bin\"\n",
        "    with open(bin_filename, \"wb\") as f:\n",
        "        f.write(np.array(data, dtype=np.int16).tobytes())  # Convert to Binary\n",
        "    output_files.append(bin_filename)\n",
        "\n",
        "# Confirm the output file names\n",
        "print(\"Generated FPGA dataset files:\")\n",
        "for file in output_files:\n",
        "    print(file)\n"
      ]
    }
  ]
}