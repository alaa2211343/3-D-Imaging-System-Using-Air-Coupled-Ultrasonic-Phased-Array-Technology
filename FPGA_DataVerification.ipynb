{
  "nbformat": 4,
  "nbformat_minor": 0,
  "metadata": {
    "colab": {
      "provenance": [],
      "authorship_tag": "ABX9TyOl7EIEonlLBV4CKd+vthI9",
      "include_colab_link": true
    },
    "kernelspec": {
      "name": "python3",
      "display_name": "Python 3"
    },
    "language_info": {
      "name": "python"
    }
  },
  "cells": [
    {
      "cell_type": "markdown",
      "metadata": {
        "id": "view-in-github",
        "colab_type": "text"
      },
      "source": [
        "<a href=\"https://colab.research.google.com/github/alaabalsayed/3-D-Imaging-System-Using-Air-Coupled-Ultrasonic-Phased-Array-Technology/blob/main/FPGA_DataVerification.ipynb\" target=\"_parent\"><img src=\"https://colab.research.google.com/assets/colab-badge.svg\" alt=\"Open In Colab\"/></a>"
      ]
    },
    {
      "cell_type": "code",
      "execution_count": null,
      "metadata": {
        "id": "l0NMzKMgBi5H"
      },
      "outputs": [],
      "source": [
        "# FPGA Test File Validation Script\n",
        "# Author: Alaa Al Sayed\n",
        "# This code reads and validates the exported Q15 beamforming datasets (.csv, .hex, .bin)\n",
        "# for FPGA input testing. It ensures consistency across formats and checks file integrity\n",
        "# before hardware deployment.\n",
        "\n",
        "import numpy as np\n",
        "import pandas as pd\n",
        "\n",
        "# Function to read and validate FPGA dataset files (CSV, HEX, Binary)\n",
        "def validate_fpga_data(angle):\n",
        "    results = {}\n",
        "\n",
        "    # Read CSV file\n",
        "    csv_filename = f\"beamformed_data_{angle}.csv\"\n",
        "    try:\n",
        "        csv_data = pd.read_csv(csv_filename, header=None).values.flatten()\n",
        "        results[\"CSV\"] = csv_data[:10]  # Display first 10 values for verification\n",
        "    except Exception as e:\n",
        "        results[\"CSV_Error\"] = str(e)\n",
        "\n",
        "    # Read HEX file\n",
        "    hex_filename = f\"beamformed_data_{angle}.hex\"\n",
        "    try:\n",
        "        with open(hex_filename, \"r\") as f:\n",
        "            hex_data = [int(line.strip(), 16) for line in f.readlines()]\n",
        "        results[\"HEX\"] = hex_data[:10]  # Display first 10 values for verification\n",
        "    except Exception as e:\n",
        "        results[\"HEX_Error\"] = str(e)\n",
        "\n",
        "    # Read Binary file\n",
        "    bin_filename = f\"beamformed_data_{angle}.bin\"\n",
        "    try:\n",
        "        with open(bin_filename, \"rb\") as f:\n",
        "            bin_data = np.frombuffer(f.read(), dtype=np.int16)\n",
        "        results[\"Binary\"] = bin_data[:10]  # Display first 10 values for verification\n",
        "    except Exception as e:\n",
        "        results[\"Binary_Error\"] = str(e)\n",
        "\n",
        "    return results\n",
        "\n",
        "# Verify FPGA Data Handling for Multiple Angles\n",
        "fpga_validation_results = {angle: validate_fpga_data(angle) for angle in [-30, 0, 30, 45, -45]}\n",
        "\n",
        "# Display validation results\n",
        "for angle, result in fpga_validation_results.items():\n",
        "    print(f\"\\n--- Validation for Angle {angle}° ---\")\n",
        "    for key, value in result.items():\n",
        "        print(f\"{key}: {value}\")"
      ]
    }
  ]
}